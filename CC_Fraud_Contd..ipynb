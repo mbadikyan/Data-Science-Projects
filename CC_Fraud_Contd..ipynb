{
 "cells": [
  {
   "cell_type": "markdown",
   "metadata": {},
   "source": [
    "# Credit Card Fraud: Ensemble Methods"
   ]
  },
  {
   "cell_type": "markdown",
   "metadata": {},
   "source": [
    "We pick up here where the previous project ended. The goal is to train an ensemble method on the credit card dataset from the previous project. We'll import the preprocessed test dataset, identify candidate predictors, and train a random forest classifier. The objective is to predict whether or not a given credit card transaction is fraudulent. "
   ]
  },
  {
   "cell_type": "markdown",
   "metadata": {},
   "source": [
    "## Import Training Data"
   ]
  },
  {
   "cell_type": "code",
   "execution_count": 1,
   "metadata": {},
   "outputs": [],
   "source": [
    "import pandas as pd\n",
    "import numpy as np\n",
    "import seaborn as sns"
   ]
  },
  {
   "cell_type": "code",
   "execution_count": 20,
   "metadata": {},
   "outputs": [],
   "source": [
    "train_data = pd.read_csv(\"C:\\\\Users\\\\mbadi\\\\Desktop\\\\Kaggle_Projects\\\\cc_train.csv\")"
   ]
  },
  {
   "cell_type": "code",
   "execution_count": 100,
   "metadata": {},
   "outputs": [],
   "source": [
    "X_train = train_data.drop(\"Class\", axis=1, inplace=False)\n",
    "y_train = train_data[\"Class\"].to_numpy().reshape(train_data.shape[0])"
   ]
  },
  {
   "cell_type": "markdown",
   "metadata": {},
   "source": [
    "We'll need to verify that the train data is balanced with respect to the target variable...."
   ]
  },
  {
   "cell_type": "code",
   "execution_count": 31,
   "metadata": {},
   "outputs": [
    {
     "data": {
      "text/plain": [
       "1    0.5\n",
       "0    0.5\n",
       "Name: Class, dtype: float64"
      ]
     },
     "execution_count": 31,
     "metadata": {},
     "output_type": "execute_result"
    }
   ],
   "source": [
    "train_data[\"Class\"].value_counts()/len(train_data[\"Class\"])"
   ]
  },
  {
   "cell_type": "markdown",
   "metadata": {},
   "source": [
    "...and so it is. Had we trained a model on the original, unbalanced dataset (skewed 99/1), said model would have attributed to underlying cause what is instead attributable to sampling, giving us inaccurate predictions. "
   ]
  },
  {
   "cell_type": "markdown",
   "metadata": {},
   "source": [
    "## Variable Selection"
   ]
  },
  {
   "cell_type": "markdown",
   "metadata": {},
   "source": [
    "Let's look at a heatmap of the correlation matrix of our training data to get an idea of which predictors  most influence the target variable, \"Class\". Below is a simple function that produces a correlation heatmap given a dataset. "
   ]
  },
  {
   "cell_type": "code",
   "execution_count": 22,
   "metadata": {},
   "outputs": [],
   "source": [
    "def corr_heatmap(X):\n",
    "    cor = X.corr()\n",
    "    return(sns.heatmap(cor))"
   ]
  },
  {
   "cell_type": "code",
   "execution_count": 26,
   "metadata": {},
   "outputs": [
    {
     "data": {
      "text/plain": [
       "<matplotlib.axes._subplots.AxesSubplot at 0x2693cb60358>"
      ]
     },
     "execution_count": 26,
     "metadata": {},
     "output_type": "execute_result"
    },
    {
     "data": {
      "image/png": "[encoded data removed]",
      "text/plain": [
       "<Figure size 432x288 with 2 Axes>"
      ]
     },
     "metadata": {
      "needs_background": "light"
     },
     "output_type": "display_data"
    }
   ],
   "source": [
    "corr_heatmap(train_data)"
   ]
  },
  {
   "cell_type": "markdown",
   "metadata": {},
   "source": [
    "We observe that \"Class\" positively correlates most with variables V4 and V11; \"Class\" negatively correlates most with V12, V14, and V17. Hence, we infer that a good model will highlight a subset of these predictors. Given the small sample size of our data (no more than 800), we'd do well to not consider more than two or three predictors, lest we fall victim to the \"Curse of Dimensionality\". "
   ]
  },
  {
   "cell_type": "markdown",
   "metadata": {},
   "source": [
    "## Fine Tuning a Random Forest Classifier"
   ]
  },
  {
   "cell_type": "markdown",
   "metadata": {},
   "source": [
    "We turn to Scikit Learn to import a Random Forest Classifier and to import the tools with which we'll fine tune and evaluate said classifier. "
   ]
  },
  {
   "cell_type": "code",
   "execution_count": 89,
   "metadata": {},
   "outputs": [],
   "source": [
    "from sklearn.ensemble import RandomForestClassifier\n",
    "from sklearn.model_selection import cross_val_score, GridSearchCV"
   ]
  },
  {
   "cell_type": "code",
   "execution_count": 91,
   "metadata": {},
   "outputs": [],
   "source": [
    "rf = RandomForestClassifier()"
   ]
  },
  {
   "cell_type": "markdown",
   "metadata": {},
   "source": [
    "The variable \"param_grid\" below is a dictionary that defines the hyperparameter space over which we will fine-tune the random forest classifier. Note that we consider both bootstrap=True and bootstrap=False. The next four cells of code train and fine-tune the model on the data. Note that we wrote Grid Search to consider no more than three predictors at a time, given our small sample size. "
   ]
  },
  {
   "cell_type": "code",
   "execution_count": 122,
   "metadata": {},
   "outputs": [],
   "source": [
    "param_grid = [\n",
    "    {'n_estimators': [10,50,100,120], 'max_features':[1,2,3]},\n",
    "    {'bootstrap':[False], 'n_estimators': [10,50,100,120], 'max_features': [1,2,3]},\n",
    "]"
   ]
  },
  {
   "cell_type": "code",
   "execution_count": 126,
   "metadata": {},
   "outputs": [
    {
     "data": {
      "text/plain": [
       "GridSearchCV(cv=5, error_score='raise-deprecating',\n",
       "             estimator=RandomForestClassifier(bootstrap=True, class_weight=None,\n",
       "                                              criterion='gini', max_depth=None,\n",
       "                                              max_features='auto',\n",
       "                                              max_leaf_nodes=None,\n",
       "                                              min_impurity_decrease=0.0,\n",
       "                                              min_impurity_split=None,\n",
       "                                              min_samples_leaf=1,\n",
       "                                              min_samples_split=2,\n",
       "                                              min_weight_fraction_leaf=0.0,\n",
       "                                              n_estimators='warn', n_jobs=None,\n",
       "                                              oob_score=False,\n",
       "                                              random_state=None, verbose=0,\n",
       "                                              warm_start=False),\n",
       "             iid='warn', n_jobs=None,\n",
       "             param_grid=[{'max_features': [1, 2, 3],\n",
       "                          'n_estimators': [10, 50, 100, 120]},\n",
       "                         {'bootstrap': [False], 'max_features': [1, 2, 3],\n",
       "                          'n_estimators': [10, 50, 100, 120]}],\n",
       "             pre_dispatch='2*n_jobs', refit=True, return_train_score=False,\n",
       "             scoring='neg_mean_squared_error', verbose=0)"
      ]
     },
     "execution_count": 126,
     "metadata": {},
     "output_type": "execute_result"
    }
   ],
   "source": [
    "grid_search = GridSearchCV(rf, param_grid, cv=5,\n",
    "                           scoring='neg_mean_squared_error')\n",
    "grid_search.fit(X_train, y_train)"
   ]
  },
  {
   "cell_type": "code",
   "execution_count": 129,
   "metadata": {},
   "outputs": [
    {
     "data": {
      "text/plain": [
       "{'bootstrap': False, 'max_features': 3, 'n_estimators': 100}"
      ]
     },
     "execution_count": 129,
     "metadata": {},
     "output_type": "execute_result"
    }
   ],
   "source": [
    "grid_search.best_params_"
   ]
  },
  {
   "cell_type": "code",
   "execution_count": 103,
   "metadata": {},
   "outputs": [
    {
     "data": {
      "text/plain": [
       "RandomForestClassifier(bootstrap=True, class_weight=None, criterion='gini',\n",
       "                       max_depth=None, max_features=2, max_leaf_nodes=None,\n",
       "                       min_impurity_decrease=0.0, min_impurity_split=None,\n",
       "                       min_samples_leaf=1, min_samples_split=2,\n",
       "                       min_weight_fraction_leaf=0.0, n_estimators=100,\n",
       "                       n_jobs=None, oob_score=False, random_state=None,\n",
       "                       verbose=0, warm_start=False)"
      ]
     },
     "execution_count": 103,
     "metadata": {},
     "output_type": "execute_result"
    }
   ],
   "source": [
    "grid_search.best_estimator_"
   ]
  },
  {
   "cell_type": "markdown",
   "metadata": {},
   "source": [
    "We take the model identified by Grid Search as the best and measure its cross-validated accuracy on the training data. "
   ]
  },
  {
   "cell_type": "code",
   "execution_count": 130,
   "metadata": {},
   "outputs": [
    {
     "name": "stdout",
     "output_type": "stream",
     "text": [
      "0.9467056150600455\n"
     ]
    }
   ],
   "source": [
    "clf = grid_search.best_estimator_\n",
    "print(np.mean(cross_val_score(clf, X_train, y_train, cv=5)))"
   ]
  },
  {
   "cell_type": "markdown",
   "metadata": {},
   "source": [
    "The fine-tuned random forest classifier achieves almost 95% accuracy, not bad. Let's see which variables were deemed by Grid Search to be the most influential on the target variable. "
   ]
  },
  {
   "cell_type": "code",
   "execution_count": 136,
   "metadata": {},
   "outputs": [
    {
     "data": {
      "text/plain": [
       "[(0.12962802580505692, 'V14'),\n",
       " (0.1106044903658258, 'V12'),\n",
       " (0.08769528829527451, 'V10'),\n",
       " (0.07895094008540242, 'V17'),\n",
       " (0.07706228357098799, 'V11'),\n",
       " (0.06706601786337422, 'V4'),\n",
       " (0.061566673061124504, 'V16'),\n",
       " (0.036840910519664205, 'V7'),\n",
       " (0.034718629566253524, 'V3'),\n",
       " (0.03468012563015081, 'V2'),\n",
       " (0.03336798366522066, 'V6'),\n",
       " (0.030053924017531403, 'V9'),\n",
       " (0.020904482192231743, 'V5'),\n",
       " (0.020351156526227, 'V21'),\n",
       " (0.019039324542199924, 'V18'),\n",
       " (0.015875075929580873, 'V27'),\n",
       " (0.015543770121637915, 'V1'),\n",
       " (0.013732252554754009, 'V8'),\n",
       " (0.012871218900092168, 'V19'),\n",
       " (0.012547443167300266, 'V20'),\n",
       " (0.011789911636549931, 'Amount_Norm'),\n",
       " (0.011047593913143812, 'V28'),\n",
       " (0.008625010513438412, 'V22'),\n",
       " (0.008365579840005365, 'V26'),\n",
       " (0.008140460059648266, 'V15'),\n",
       " (0.008040079576982937, 'V25'),\n",
       " (0.0070452886892737095, 'V13'),\n",
       " (0.00624697275690576, 'V23'),\n",
       " (0.0062306779838416804, 'Unnamed: 0.1'),\n",
       " (0.005818143187695205, 'V24'),\n",
       " (0.005550265462623918, 'Unnamed: 0')]"
      ]
     },
     "execution_count": 136,
     "metadata": {},
     "output_type": "execute_result"
    }
   ],
   "source": [
    "feature_importances = grid_search.best_estimator_.feature_importances_\n",
    "sorted(zip(feature_importances, X_train.columns), reverse=True)"
   ]
  },
  {
   "cell_type": "markdown",
   "metadata": {},
   "source": [
    "Looks like V14, V12, and V10 are the top three most influential predictors. All that's left is to import the test data and test our trained model. "
   ]
  },
  {
   "cell_type": "code",
   "execution_count": 137,
   "metadata": {},
   "outputs": [],
   "source": [
    "test_data = pd.read_csv(\"C:\\\\Users\\\\mbadi\\\\Desktop\\\\Kaggle_Projects\\\\cc_test.csv\")"
   ]
  },
  {
   "cell_type": "code",
   "execution_count": 138,
   "metadata": {},
   "outputs": [],
   "source": [
    "X_test = test_data.drop(\"Class\", axis=1, inplace=False)\n",
    "y_test = test_data[\"Class\"].to_numpy().reshape(test_data.shape[0])"
   ]
  },
  {
   "cell_type": "code",
   "execution_count": 139,
   "metadata": {},
   "outputs": [],
   "source": [
    "from sklearn.metrics import accuracy_score"
   ]
  },
  {
   "cell_type": "code",
   "execution_count": 140,
   "metadata": {},
   "outputs": [
    {
     "data": {
      "text/plain": [
       "0.9438775510204082"
      ]
     },
     "execution_count": 140,
     "metadata": {},
     "output_type": "execute_result"
    }
   ],
   "source": [
    "accuracy_score(y_test, clf.predict(X_test))"
   ]
  },
  {
   "cell_type": "markdown",
   "metadata": {},
   "source": [
    "## Conclusion"
   ]
  },
  {
   "cell_type": "markdown",
   "metadata": {},
   "source": [
    "The final model achieves 94% accuracy when predicting instances in the test dataset. It's worth noting that Grid Search preferred three predictors, even though our sample size is small. If we refer back to the heatmap, we'll observe a high degree of covariance among the predictors. This means that several predictors either measure very similar phenomenon, or that several predictors can be traced to a common cause. This lets us get away with using three predictors to achieve 94% accuracy on such a small data sample. "
   ]
  },
  {
   "cell_type": "markdown",
   "metadata": {},
   "source": [
    "## Works Cited"
   ]
  },
  {
   "cell_type": "markdown",
   "metadata": {},
   "source": [
    "Thanks again to the Scikit Learn team: https://scikit-learn.org/stable/"
   ]
  },
  {
   "cell_type": "markdown",
   "metadata": {},
   "source": [
    "As well as to kaggle for the dataset:  https://www.kaggle.com/mlg-ulb/creditcardfraud"
   ]
  }
 ],
 "metadata": {
  "kernelspec": {
   "display_name": "Python 3",
   "language": "python",
   "name": "python3"
  },
  "language_info": {
   "codemirror_mode": {
    "name": "ipython",
    "version": 3
   },
   "file_extension": ".py",
   "mimetype": "text/x-python",
   "name": "python",
   "nbconvert_exporter": "python",
   "pygments_lexer": "ipython3",
   "version": "3.7.3"
  }
 },
 "nbformat": 4,
 "nbformat_minor": 2
}
